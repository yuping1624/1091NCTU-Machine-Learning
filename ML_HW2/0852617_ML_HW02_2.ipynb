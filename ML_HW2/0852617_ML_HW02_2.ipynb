{
 "cells": [
  {
   "cell_type": "markdown",
   "metadata": {},
   "source": [
    "### 0852617 曾鈺評 機器學習HW02_2\n",
    "### Online Learning"
   ]
  },
  {
   "cell_type": "code",
   "execution_count": 1,
   "metadata": {},
   "outputs": [],
   "source": [
    "import numpy as np"
   ]
  },
  {
   "cell_type": "code",
   "execution_count": 62,
   "metadata": {},
   "outputs": [],
   "source": [
    "directory = \"D:\\\\1091NCTU\\Machine learning\\\\Homework\\\\\"\n",
    "rawdata = []\n",
    "with open(directory+\"testfile.txt\") as file:\n",
    "    for line in file:\n",
    "        rawdata.append([int(i) for i in list(line.split(\"\\n\")[0])])"
   ]
  },
  {
   "cell_type": "code",
   "execution_count": 96,
   "metadata": {},
   "outputs": [],
   "source": [
    "def Factorial(number):\n",
    "    result = 1\n",
    "    for i in range(1, number+1, 1):\n",
    "        result = result*i\n",
    "    return result\n",
    "\n",
    "def Combination(n,x):\n",
    "    return Factorial(n) / (Factorial(x) * Factorial(n-x))\n",
    "\n",
    "def Gamma(x):\n",
    "    return Factorial(x-1)\n",
    "\n",
    "def Beta(a, b):\n",
    "    return (Gamma(a) * Gamma(b)) / Gamma(a+b)"
   ]
  },
  {
   "cell_type": "code",
   "execution_count": 137,
   "metadata": {},
   "outputs": [
    {
     "name": "stdout",
     "output_type": "stream",
     "text": [
      "alpha = 0\n",
      "beta = 0\n"
     ]
    }
   ],
   "source": [
    "alpha = int(input(\"alpha = \"))\n",
    "beta = int(input(\"beta = \"))"
   ]
  },
  {
   "cell_type": "code",
   "execution_count": 138,
   "metadata": {},
   "outputs": [
    {
     "name": "stdout",
     "output_type": "stream",
     "text": [
      "case 1: 0101010101001011010101\n",
      "Likelihood: 0.16818809509277344\n",
      "Beta prior: a= 0 b=0\n",
      "Beta posterior: a= 11 b=11\n",
      "\n",
      "case 2: 0110101\n",
      "Likelihood: 0.29375515303997485\n",
      "Beta prior: a= 11 b=11\n",
      "Beta posterior: a= 15 b=14\n",
      "\n",
      "case 3: 010110101101\n",
      "Likelihood: 0.2286054241794335\n",
      "Beta prior: a= 15 b=14\n",
      "Beta posterior: a= 22 b=19\n",
      "\n",
      "case 4: 0101101011101011010\n",
      "Likelihood: 0.18286870706509092\n",
      "Beta prior: a= 22 b=19\n",
      "Beta posterior: a= 33 b=27\n",
      "\n",
      "case 5: 111101100011110\n",
      "Likelihood: 0.2143070548857833\n",
      "Beta prior: a= 33 b=27\n",
      "Beta posterior: a= 43 b=32\n",
      "\n",
      "case 6: 101110111000110\n",
      "Likelihood: 0.20659760529408\n",
      "Beta prior: a= 43 b=32\n",
      "Beta posterior: a= 52 b=38\n",
      "\n",
      "case 7: 1010010111\n",
      "Likelihood: 0.25082265600000003\n",
      "Beta prior: a= 52 b=38\n",
      "Beta posterior: a= 58 b=42\n",
      "\n",
      "case 8: 11101110110\n",
      "Likelihood: 0.2619678932864457\n",
      "Beta prior: a= 58 b=42\n",
      "Beta posterior: a= 66 b=45\n",
      "\n",
      "case 9: 01000111101\n",
      "Likelihood: 0.23609128871506807\n",
      "Beta prior: a= 66 b=45\n",
      "Beta posterior: a= 72 b=50\n",
      "\n",
      "case 10: 110100111\n",
      "Likelihood: 0.27312909617436365\n",
      "Beta prior: a= 72 b=50\n",
      "Beta posterior: a= 78 b=53\n",
      "\n",
      "case 11: 01101010111\n",
      "Likelihood: 0.24384881449471862\n",
      "Beta prior: a= 78 b=53\n",
      "Beta posterior: a= 85 b=57\n",
      "\n"
     ]
    }
   ],
   "source": [
    "for i in range(len(rawdata)):\n",
    "    print(\"case %s:\" %(i+1), end=' ')\n",
    "    for j in rawdata[i]:\n",
    "        print(j, end='')\n",
    "    print(\"\")\n",
    "    n = len(rawdata[i])\n",
    "    k = sum(rawdata[i])\n",
    "    mu = k / n\n",
    "    likelihood = Combination(n, k) * mu**k * (1-mu)**(n-k)\n",
    "    print(\"Likelihood: %s\" %likelihood)\n",
    "    print(\"Beta prior: a= %s b=%s\" %(alpha, beta))\n",
    "    alpha = k + alpha\n",
    "    beta = n - k + beta\n",
    "    print(\"Beta posterior: a= %s b=%s\\n\" %(alpha, beta))"
   ]
  },
  {
   "cell_type": "code",
   "execution_count": 139,
   "metadata": {},
   "outputs": [
    {
     "name": "stdout",
     "output_type": "stream",
     "text": [
      "alpha = 10\n",
      "beta = 1\n"
     ]
    }
   ],
   "source": [
    "alpha = int(input(\"alpha = \"))\n",
    "beta = int(input(\"beta = \"))"
   ]
  },
  {
   "cell_type": "code",
   "execution_count": 140,
   "metadata": {},
   "outputs": [
    {
     "name": "stdout",
     "output_type": "stream",
     "text": [
      "case 1: 0101010101001011010101\n",
      "Likelihood: 0.16818809509277344\n",
      "Beta prior: a= 10 b=1\n",
      "Beta posterior: a= 21 b=12\n",
      "\n",
      "case 2: 0110101\n",
      "Likelihood: 0.29375515303997485\n",
      "Beta prior: a= 21 b=12\n",
      "Beta posterior: a= 25 b=15\n",
      "\n",
      "case 3: 010110101101\n",
      "Likelihood: 0.2286054241794335\n",
      "Beta prior: a= 25 b=15\n",
      "Beta posterior: a= 32 b=20\n",
      "\n",
      "case 4: 0101101011101011010\n",
      "Likelihood: 0.18286870706509092\n",
      "Beta prior: a= 32 b=20\n",
      "Beta posterior: a= 43 b=28\n",
      "\n",
      "case 5: 111101100011110\n",
      "Likelihood: 0.2143070548857833\n",
      "Beta prior: a= 43 b=28\n",
      "Beta posterior: a= 53 b=33\n",
      "\n",
      "case 6: 101110111000110\n",
      "Likelihood: 0.20659760529408\n",
      "Beta prior: a= 53 b=33\n",
      "Beta posterior: a= 62 b=39\n",
      "\n",
      "case 7: 1010010111\n",
      "Likelihood: 0.25082265600000003\n",
      "Beta prior: a= 62 b=39\n",
      "Beta posterior: a= 68 b=43\n",
      "\n",
      "case 8: 11101110110\n",
      "Likelihood: 0.2619678932864457\n",
      "Beta prior: a= 68 b=43\n",
      "Beta posterior: a= 76 b=46\n",
      "\n",
      "case 9: 01000111101\n",
      "Likelihood: 0.23609128871506807\n",
      "Beta prior: a= 76 b=46\n",
      "Beta posterior: a= 82 b=51\n",
      "\n",
      "case 10: 110100111\n",
      "Likelihood: 0.27312909617436365\n",
      "Beta prior: a= 82 b=51\n",
      "Beta posterior: a= 88 b=54\n",
      "\n",
      "case 11: 01101010111\n",
      "Likelihood: 0.24384881449471862\n",
      "Beta prior: a= 88 b=54\n",
      "Beta posterior: a= 95 b=58\n",
      "\n"
     ]
    }
   ],
   "source": [
    "for i in range(len(rawdata)):\n",
    "    print(\"case %s:\" %(i+1), end=' ')\n",
    "    for j in rawdata[i]:\n",
    "        print(j, end='')\n",
    "    print(\"\")\n",
    "    n = len(rawdata[i])\n",
    "    k = sum(rawdata[i])\n",
    "    mu = k / n\n",
    "    likelihood = Combination(n, k) * mu**k * (1-mu)**(n-k)\n",
    "    print(\"Likelihood: %s\" %likelihood)\n",
    "    print(\"Beta prior: a= %s b=%s\" %(alpha, beta))\n",
    "    alpha = k + alpha\n",
    "    beta = n - k + beta\n",
    "    print(\"Beta posterior: a= %s b=%s\\n\" %(alpha, beta))"
   ]
  },
  {
   "cell_type": "code",
   "execution_count": null,
   "metadata": {},
   "outputs": [],
   "source": []
  }
 ],
 "metadata": {
  "kernelspec": {
   "display_name": "Python 3",
   "language": "python",
   "name": "python3"
  },
  "language_info": {
   "codemirror_mode": {
    "name": "ipython",
    "version": 3
   },
   "file_extension": ".py",
   "mimetype": "text/x-python",
   "name": "python",
   "nbconvert_exporter": "python",
   "pygments_lexer": "ipython3",
   "version": "3.7.4"
  }
 },
 "nbformat": 4,
 "nbformat_minor": 2
}
