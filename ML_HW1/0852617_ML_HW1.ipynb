{
 "cells": [
  {
   "cell_type": "markdown",
   "metadata": {},
   "source": [
    "### 0852617 統計所 曾鈺評  機器學習 HW01"
   ]
  },
  {
   "cell_type": "code",
   "execution_count": 1,
   "metadata": {},
   "outputs": [],
   "source": [
    "import numpy as np\n",
    "import matplotlib.pyplot as plt"
   ]
  },
  {
   "cell_type": "code",
   "execution_count": 2,
   "metadata": {},
   "outputs": [],
   "source": [
    "path = \"C:\\\\Users\\\\Yuping\\\\HW_Machine_Learning\\\\HW1\\\\\"\n",
    "file_name = \"testfile.txt\""
   ]
  },
  {
   "cell_type": "code",
   "execution_count": 3,
   "metadata": {},
   "outputs": [],
   "source": [
    "rawdata = []\n",
    "with open(path + file_name, 'r') as file:\n",
    "    for line in file:\n",
    "        rawdata.extend(line.split('\\n')[0].split(','))\n",
    "rawdata = np.asarray(rawdata).astype(float).reshape(-1,2)\n",
    "x_data = rawdata[:,0:1]\n",
    "y_data = rawdata[:,1:]\n",
    "#rawdata"
   ]
  },
  {
   "cell_type": "code",
   "execution_count": 4,
   "metadata": {},
   "outputs": [],
   "source": [
    "def SSE(fitted_value, y):\n",
    "    return sum((fitted_value - y)**2)"
   ]
  },
  {
   "cell_type": "code",
   "execution_count": 5,
   "metadata": {},
   "outputs": [],
   "source": [
    "def LU_decomposition(matrix):\n",
    "    L = IdentityMatrix(matrix.shape[0])\n",
    "    for j in range(matrix.shape[1]):\n",
    "        for i in range(j+1, matrix.shape[0]):\n",
    "            ratio = matrix[i][j] / matrix[j][j]\n",
    "            matrix[i] -= ratio * matrix[j] \n",
    "            L[i][j] = ratio\n",
    "            #print(ratio)\n",
    "    return L, matrix"
   ]
  },
  {
   "cell_type": "code",
   "execution_count": 6,
   "metadata": {},
   "outputs": [],
   "source": [
    "# sole y in Ly=b using forward substitution for every column\n",
    "def forward_substitution(L, b):\n",
    "    y = np.zeros((L.shape[1], b.shape[0]))\n",
    "    for j in range(y.shape[1]):\n",
    "        y_temp = np.zeros((L.shape[1],1))\n",
    "        for i in range(y.shape[0]):\n",
    "            y[i][j] = (b[i][j] - Multiplication(L[i:i+1,:], y_temp)) / L[i][i]\n",
    "            y_temp[i] = y[i][j]\n",
    "    return y\n",
    "\n",
    "# sole x in Ux=y using forward substitution for every column\n",
    "def backward_substitution(U, y):\n",
    "    x = np.zeros((U.shape[1], y.shape[0]))\n",
    "    for j in range(x.shape[1]):\n",
    "        x_temp = np.zeros((U.shape[1],1))\n",
    "        for i in range(x.shape[0]-1, -1, -1):\n",
    "            x[i][j] = (y[i][j] - Multiplication(U[i:i+1,:], x_temp)) / U[i][i]\n",
    "            x_temp[i] = x[i][j]\n",
    "    return x"
   ]
  },
  {
   "cell_type": "code",
   "execution_count": 7,
   "metadata": {},
   "outputs": [],
   "source": [
    "def Inverse(matrix):\n",
    "    L, U = LU_decomposition(matrix)\n",
    "    y = forward_substitution(L, IdentityMatrix(L.shape[0]))\n",
    "    x = backward_substitution(U, y)\n",
    "    return x"
   ]
  },
  {
   "cell_type": "code",
   "execution_count": 8,
   "metadata": {},
   "outputs": [],
   "source": [
    "def Transpose(matrix):\n",
    "#     for i in range(matrix.shape[0]):\n",
    "#         for j in range(matrix.shape[1]):\n",
    "#             matrix_trans[j][i] = matrix[i][j]\n",
    "    matrix_trans = [[matrix[i][j] for i in range(matrix.shape[0])] \n",
    "                                  for j in range(matrix.shape[1])]\n",
    "    return np.array(matrix_trans)"
   ]
  },
  {
   "cell_type": "code",
   "execution_count": 9,
   "metadata": {},
   "outputs": [],
   "source": [
    "def IdentityMatrix(rank):\n",
    "    I = np.zeros((rank, rank))\n",
    "    for i in range(rank):\n",
    "        I[i][i] = 1\n",
    "    return I"
   ]
  },
  {
   "cell_type": "code",
   "execution_count": 10,
   "metadata": {},
   "outputs": [],
   "source": [
    "def Multiplication(matrix1, matrix2):\n",
    "    #matrix_new = np.zeros((matrix1.shape[0], matrix2.shape[1]))\n",
    "    nrow = matrix1.shape[0]\n",
    "    ncol = matrix2.shape[1]\n",
    "    iters = matrix1.shape[1]\n",
    "    \n",
    "    matrix_new = [[sum([matrix1[i][k]*matrix2[k][j] for k in range(iters)]) for j in range(ncol)] for i in range(nrow)]\n",
    "    return np.array(matrix_new)"
   ]
  },
  {
   "cell_type": "code",
   "execution_count": 11,
   "metadata": {},
   "outputs": [
    {
     "name": "stdout",
     "output_type": "stream",
     "text": [
      "Please enter the number of polynomial bases n = 3\n",
      "Please enter the lambda = 10000\n"
     ]
    }
   ],
   "source": [
    "n = int(input(\"Please enter the number of polynomial bases n = \"))\n",
    "lda = int(input(\"Please enter the lambda = \"))"
   ]
  },
  {
   "cell_type": "code",
   "execution_count": 12,
   "metadata": {},
   "outputs": [],
   "source": [
    "A = np.zeros(shape=(x_data.shape[0], n))\n",
    "for i in range(n):\n",
    "    A[:,i:i+1] = x_data**(n-i-1)\n",
    "#ATA_inverse_lda = np.linalg.inv(Multiplication(Transpose(A), A) + lda*IdentityMatrix(n))\n",
    "ATA_inv_lse = Inverse(Multiplication(Transpose(A), A) + lda*IdentityMatrix(n))\n",
    "ATb = Multiplication(Transpose(A), y_data)\n",
    "b_lse = Multiplication(ATA_inv_lse, ATb)\n",
    "predict_lse = Multiplication(A, b_lse)\n",
    "# b_lse\n",
    "# predict_lse"
   ]
  },
  {
   "cell_type": "code",
   "execution_count": 13,
   "metadata": {},
   "outputs": [
    {
     "data": {
      "image/png": "[encoded data removed]",
      "text/plain": [
       "<Figure size 432x288 with 1 Axes>"
      ]
     },
     "metadata": {
      "needs_background": "light"
     },
     "output_type": "display_data"
    }
   ],
   "source": [
    "plt.scatter(x_data, y_data)\n",
    "plt.plot(x_data, predict_lse)\n",
    "plt.xlabel(\"x\")\n",
    "plt.ylabel(\"y\")\n",
    "plt.title(\"LSE\")\n",
    "plt.show()"
   ]
  },
  {
   "cell_type": "code",
   "execution_count": 14,
   "metadata": {},
   "outputs": [],
   "source": [
    "ATA_inv_newton = Inverse(Multiplication(Transpose(A), A))\n",
    "ATb = Multiplication(Transpose(A), y_data)\n",
    "b_newton = Multiplication(ATA_inv_newton, ATb)\n",
    "predict_newton = Multiplication(A, b_newton)\n",
    "# b_newton\n",
    "# predict_newton"
   ]
  },
  {
   "cell_type": "code",
   "execution_count": 15,
   "metadata": {},
   "outputs": [
    {
     "data": {
      "image/png": "[encoded data removed]",
      "text/plain": [
       "<Figure size 432x288 with 1 Axes>"
      ]
     },
     "metadata": {
      "needs_background": "light"
     },
     "output_type": "display_data"
    }
   ],
   "source": [
    "plt.scatter(x_data, y_data)\n",
    "plt.plot(x_data, predict_newton)\n",
    "plt.xlabel(\"x\")\n",
    "plt.ylabel(\"y\")\n",
    "plt.title(\"Newton's Method\")\n",
    "plt.show()"
   ]
  },
  {
   "cell_type": "code",
   "execution_count": 16,
   "metadata": {},
   "outputs": [
    {
     "name": "stdout",
     "output_type": "stream",
     "text": [
      "LSE: \n",
      "Fitting line: 0.8345332827 X^2 + 0.0931481983 X^1 + [0.0469507]\n",
      "Total error: 22649.7384930242\n",
      "\n",
      "Newton's Method: \n",
      "Fitting line: 3.0238533935 X^2 + 4.9061902639 X^1 [-0.23140176]\n",
      "Total error: 26.5599594993\n"
     ]
    }
   ],
   "source": [
    "print(\"LSE: \\nFitting line: \", end='')\n",
    "for i in range(len(b_lse)):\n",
    "    if i != (len(b_lse)-1):\n",
    "        print(\"%.10f X^%s \" %(b_lse[i], n-i-1), end='')\n",
    "        if b_lse[i+1] > 0:\n",
    "            print('+ ', end='')\n",
    "    else:\n",
    "        print(b_lse[i])\n",
    "print(\"Total error: %.10f\\n\" %SSE(predict_lse, y_data))\n",
    "\n",
    "\n",
    "print(\"Newton's Method: \\nFitting line: \", end='')\n",
    "for i in range(len(b_newton)):\n",
    "    if i != (len(b_newton)-1):\n",
    "        print(\"%.10f X^%s \" %(b_newton[i], n-i-1), end='')\n",
    "        if b_newton[i+1] > 0:\n",
    "            print('+ ', end='')\n",
    "    else:\n",
    "        print(b_newton[i])\n",
    "print(\"Total error: %.10f\" %SSE(predict_newton, y_data))"
   ]
  }
 ],
 "metadata": {
  "kernelspec": {
   "display_name": "Python 3",
   "language": "python",
   "name": "python3"
  },
  "language_info": {
   "codemirror_mode": {
    "name": "ipython",
    "version": 3
   },
   "file_extension": ".py",
   "mimetype": "text/x-python",
   "name": "python",
   "nbconvert_exporter": "python",
   "pygments_lexer": "ipython3",
   "version": "3.7.4"
  }
 },
 "nbformat": 4,
 "nbformat_minor": 2
}
